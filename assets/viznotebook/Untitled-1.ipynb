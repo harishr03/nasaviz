{
 "cells": [
  {
   "cell_type": "code",
   "execution_count": 29,
   "metadata": {},
   "outputs": [],
   "source": [
    "import plotly.express as px\n",
    "import pandas as pd\n",
    "import pycountry\n",
    "import numpy as np"
   ]
  },
  {
   "cell_type": "code",
   "execution_count": 30,
   "metadata": {},
   "outputs": [
    {
     "data": {
      "text/html": [
       "<div>\n",
       "<style scoped>\n",
       "    .dataframe tbody tr th:only-of-type {\n",
       "        vertical-align: middle;\n",
       "    }\n",
       "\n",
       "    .dataframe tbody tr th {\n",
       "        vertical-align: top;\n",
       "    }\n",
       "\n",
       "    .dataframe thead th {\n",
       "        text-align: right;\n",
       "    }\n",
       "</style>\n",
       "<table border=\"1\" class=\"dataframe\">\n",
       "  <thead>\n",
       "    <tr style=\"text-align: right;\">\n",
       "      <th></th>\n",
       "      <th>Profile.Astronaut Numbers.Overall</th>\n",
       "      <th>Profile.Astronaut Numbers.Nationwide</th>\n",
       "      <th>Profile.Name</th>\n",
       "      <th>Profile.Gender</th>\n",
       "      <th>Profile.Birth Year</th>\n",
       "      <th>Profile.Nationality</th>\n",
       "      <th>Profile.Military</th>\n",
       "      <th>Profile.Selection.Group</th>\n",
       "      <th>Profile.Selection.Year</th>\n",
       "      <th>Profile.Lifetime Statistics.Mission count</th>\n",
       "      <th>Mission.Role</th>\n",
       "      <th>Mission.Year</th>\n",
       "      <th>Mission.Name</th>\n",
       "      <th>Mission.Vechicles.Ascent</th>\n",
       "      <th>Mission.Vechicles.Orbit</th>\n",
       "      <th>Mission.Vechicles.Decent</th>\n",
       "      <th>Mission.Durations.Mission duration</th>\n",
       "      <th>Profile.Lifetime Statistics.Mission duration</th>\n",
       "      <th>Mission.Durations.EVA duration</th>\n",
       "      <th>Profile.Lifetime Statistics.EVA duration</th>\n",
       "    </tr>\n",
       "  </thead>\n",
       "  <tbody>\n",
       "    <tr>\n",
       "      <th>0</th>\n",
       "      <td>1</td>\n",
       "      <td>1</td>\n",
       "      <td>Gagarin, Yuri</td>\n",
       "      <td>male</td>\n",
       "      <td>1934</td>\n",
       "      <td>U.S.S.R/Russia</td>\n",
       "      <td>True</td>\n",
       "      <td>TsPK-1</td>\n",
       "      <td>1960</td>\n",
       "      <td>1</td>\n",
       "      <td>pilot</td>\n",
       "      <td>1961</td>\n",
       "      <td>Vostok 1</td>\n",
       "      <td>Vostok 1</td>\n",
       "      <td>Vostok 2</td>\n",
       "      <td>Vostok 3</td>\n",
       "      <td>1.77</td>\n",
       "      <td>1.77</td>\n",
       "      <td>0.0</td>\n",
       "      <td>0.0</td>\n",
       "    </tr>\n",
       "    <tr>\n",
       "      <th>1</th>\n",
       "      <td>2</td>\n",
       "      <td>2</td>\n",
       "      <td>Titov, Gherman</td>\n",
       "      <td>male</td>\n",
       "      <td>1935</td>\n",
       "      <td>U.S.S.R/Russia</td>\n",
       "      <td>True</td>\n",
       "      <td>TsPK-1</td>\n",
       "      <td>1960</td>\n",
       "      <td>1</td>\n",
       "      <td>pilot</td>\n",
       "      <td>1961</td>\n",
       "      <td>Vostok 2</td>\n",
       "      <td>Vostok 2</td>\n",
       "      <td>Vostok 2</td>\n",
       "      <td>Vostok 2</td>\n",
       "      <td>25.00</td>\n",
       "      <td>25.30</td>\n",
       "      <td>0.0</td>\n",
       "      <td>0.0</td>\n",
       "    </tr>\n",
       "    <tr>\n",
       "      <th>2</th>\n",
       "      <td>3</td>\n",
       "      <td>1</td>\n",
       "      <td>Glenn, John H., Jr.</td>\n",
       "      <td>male</td>\n",
       "      <td>1921</td>\n",
       "      <td>U.S.</td>\n",
       "      <td>True</td>\n",
       "      <td>NASA Astronaut Group 1</td>\n",
       "      <td>1959</td>\n",
       "      <td>2</td>\n",
       "      <td>pilot</td>\n",
       "      <td>1962</td>\n",
       "      <td>MA-6</td>\n",
       "      <td>MA-6</td>\n",
       "      <td>MA-6</td>\n",
       "      <td>MA-6</td>\n",
       "      <td>5.00</td>\n",
       "      <td>218.00</td>\n",
       "      <td>0.0</td>\n",
       "      <td>0.0</td>\n",
       "    </tr>\n",
       "    <tr>\n",
       "      <th>3</th>\n",
       "      <td>3</td>\n",
       "      <td>1</td>\n",
       "      <td>Glenn, John H., Jr.</td>\n",
       "      <td>male</td>\n",
       "      <td>1921</td>\n",
       "      <td>U.S.</td>\n",
       "      <td>True</td>\n",
       "      <td>NASA Astronaut Group 2</td>\n",
       "      <td>1959</td>\n",
       "      <td>2</td>\n",
       "      <td>PSP</td>\n",
       "      <td>1998</td>\n",
       "      <td>STS-95</td>\n",
       "      <td>STS-95</td>\n",
       "      <td>STS-95</td>\n",
       "      <td>STS-95</td>\n",
       "      <td>213.00</td>\n",
       "      <td>218.00</td>\n",
       "      <td>0.0</td>\n",
       "      <td>0.0</td>\n",
       "    </tr>\n",
       "    <tr>\n",
       "      <th>4</th>\n",
       "      <td>4</td>\n",
       "      <td>2</td>\n",
       "      <td>Carpenter, M. Scott</td>\n",
       "      <td>male</td>\n",
       "      <td>1925</td>\n",
       "      <td>U.S.</td>\n",
       "      <td>True</td>\n",
       "      <td>NASA- 1</td>\n",
       "      <td>1959</td>\n",
       "      <td>1</td>\n",
       "      <td>Pilot</td>\n",
       "      <td>1962</td>\n",
       "      <td>Mercury-Atlas 7</td>\n",
       "      <td>Mercury-Atlas 7</td>\n",
       "      <td>Mercury-Atlas 7</td>\n",
       "      <td>Mercury-Atlas 7</td>\n",
       "      <td>5.00</td>\n",
       "      <td>5.00</td>\n",
       "      <td>0.0</td>\n",
       "      <td>0.0</td>\n",
       "    </tr>\n",
       "  </tbody>\n",
       "</table>\n",
       "</div>"
      ],
      "text/plain": [
       "   Profile.Astronaut Numbers.Overall  Profile.Astronaut Numbers.Nationwide  \\\n",
       "0                                  1                                     1   \n",
       "1                                  2                                     2   \n",
       "2                                  3                                     1   \n",
       "3                                  3                                     1   \n",
       "4                                  4                                     2   \n",
       "\n",
       "          Profile.Name Profile.Gender  Profile.Birth Year Profile.Nationality  \\\n",
       "0        Gagarin, Yuri           male                1934      U.S.S.R/Russia   \n",
       "1       Titov, Gherman           male                1935      U.S.S.R/Russia   \n",
       "2  Glenn, John H., Jr.           male                1921                U.S.   \n",
       "3  Glenn, John H., Jr.           male                1921                U.S.   \n",
       "4  Carpenter, M. Scott           male                1925                U.S.   \n",
       "\n",
       "   Profile.Military Profile.Selection.Group  Profile.Selection.Year  \\\n",
       "0              True                  TsPK-1                    1960   \n",
       "1              True                  TsPK-1                    1960   \n",
       "2              True  NASA Astronaut Group 1                    1959   \n",
       "3              True  NASA Astronaut Group 2                    1959   \n",
       "4              True                 NASA- 1                    1959   \n",
       "\n",
       "   Profile.Lifetime Statistics.Mission count Mission.Role  Mission.Year  \\\n",
       "0                                          1        pilot          1961   \n",
       "1                                          1        pilot          1961   \n",
       "2                                          2        pilot          1962   \n",
       "3                                          2          PSP          1998   \n",
       "4                                          1        Pilot          1962   \n",
       "\n",
       "      Mission.Name Mission.Vechicles.Ascent Mission.Vechicles.Orbit  \\\n",
       "0         Vostok 1                 Vostok 1                Vostok 2   \n",
       "1         Vostok 2                 Vostok 2                Vostok 2   \n",
       "2             MA-6                     MA-6                    MA-6   \n",
       "3           STS-95                   STS-95                  STS-95   \n",
       "4  Mercury-Atlas 7          Mercury-Atlas 7         Mercury-Atlas 7   \n",
       "\n",
       "  Mission.Vechicles.Decent  Mission.Durations.Mission duration  \\\n",
       "0                 Vostok 3                                1.77   \n",
       "1                 Vostok 2                               25.00   \n",
       "2                     MA-6                                5.00   \n",
       "3                   STS-95                              213.00   \n",
       "4          Mercury-Atlas 7                                5.00   \n",
       "\n",
       "   Profile.Lifetime Statistics.Mission duration  \\\n",
       "0                                          1.77   \n",
       "1                                         25.30   \n",
       "2                                        218.00   \n",
       "3                                        218.00   \n",
       "4                                          5.00   \n",
       "\n",
       "   Mission.Durations.EVA duration  Profile.Lifetime Statistics.EVA duration  \n",
       "0                             0.0                                       0.0  \n",
       "1                             0.0                                       0.0  \n",
       "2                             0.0                                       0.0  \n",
       "3                             0.0                                       0.0  \n",
       "4                             0.0                                       0.0  "
      ]
     },
     "execution_count": 30,
     "metadata": {},
     "output_type": "execute_result"
    }
   ],
   "source": [
    "df = pd.read_csv('astronauts.csv')\n",
    "df.head()"
   ]
  },
  {
   "cell_type": "code",
   "execution_count": 33,
   "metadata": {},
   "outputs": [],
   "source": [
    "def standardize_countries(country):\n",
    "    if country == \"U.S.\":\n",
    "        return \"USA\"  \n",
    "    elif country == \"U.S.S.R/Russia\":\n",
    "        return \"RUS\"  \n",
    "    else:\n",
    "        standardized_country = pycountry.countries.get(name=country)\n",
    "        return standardized_country.alpha_3 if standardized_country else None"
   ]
  },
  {
   "cell_type": "code",
   "execution_count": 34,
   "metadata": {},
   "outputs": [
    {
     "data": {
      "application/vnd.plotly.v1+json": {
       "config": {
        "plotlyServerURL": "https://plot.ly"
       },
       "data": [
        {
         "coloraxis": "coloraxis",
         "geo": "geo",
         "hovertemplate": "<b>%{hovertext}</b><br><br>iso_alpha=%{location}<br>count=%{z}<extra></extra>",
         "hovertext": [
          "AFG",
          "AUS",
          "AUT",
          "BEL",
          "BGR",
          "BRA",
          "CAN",
          "CHE",
          "CHN",
          "CUB",
          "DEU",
          "DNK",
          "ESP",
          "FRA",
          "IND",
          "ISR",
          "ITA",
          "JPN",
          "KAZ",
          "MEX",
          "MNG",
          "POL",
          "ROU",
          "RUS",
          "SAU",
          "SVK",
          "SWE",
          "USA"
         ],
         "locations": [
          "AFG",
          "AUS",
          "AUT",
          "BEL",
          "BGR",
          "BRA",
          "CAN",
          "CHE",
          "CHN",
          "CUB",
          "DEU",
          "DNK",
          "ESP",
          "FRA",
          "IND",
          "ISR",
          "ITA",
          "JPN",
          "KAZ",
          "MEX",
          "MNG",
          "POL",
          "ROU",
          "RUS",
          "SAU",
          "SVK",
          "SWE",
          "USA"
         ],
         "name": "",
         "type": "choropleth",
         "z": [
          1,
          4,
          1,
          3,
          2,
          1,
          18,
          4,
          14,
          1,
          16,
          1,
          2,
          18,
          1,
          1,
          12,
          20,
          1,
          1,
          1,
          1,
          1,
          273,
          1,
          1,
          2,
          850
         ]
        }
       ],
       "layout": {
        "coloraxis": {
         "colorbar": {
          "title": {
           "text": "count"
          }
         },
         "colorscale": [
          [
           0,
           "#0d0887"
          ],
          [
           0.1111111111111111,
           "#46039f"
          ],
          [
           0.2222222222222222,
           "#7201a8"
          ],
          [
           0.3333333333333333,
           "#9c179e"
          ],
          [
           0.4444444444444444,
           "#bd3786"
          ],
          [
           0.5555555555555556,
           "#d8576b"
          ],
          [
           0.6666666666666666,
           "#ed7953"
          ],
          [
           0.7777777777777778,
           "#fb9f3a"
          ],
          [
           0.8888888888888888,
           "#fdca26"
          ],
          [
           1,
           "#f0f921"
          ]
         ]
        },
        "geo": {
         "center": {},
         "domain": {
          "x": [
           0,
           1
          ],
          "y": [
           0,
           1
          ]
         }
        },
        "legend": {
         "tracegroupgap": 0
        },
        "margin": {
         "t": 60
        },
        "template": {
         "data": {
          "bar": [
           {
            "error_x": {
             "color": "#2a3f5f"
            },
            "error_y": {
             "color": "#2a3f5f"
            },
            "marker": {
             "line": {
              "color": "#E5ECF6",
              "width": 0.5
             },
             "pattern": {
              "fillmode": "overlay",
              "size": 10,
              "solidity": 0.2
             }
            },
            "type": "bar"
           }
          ],
          "barpolar": [
           {
            "marker": {
             "line": {
              "color": "#E5ECF6",
              "width": 0.5
             },
             "pattern": {
              "fillmode": "overlay",
              "size": 10,
              "solidity": 0.2
             }
            },
            "type": "barpolar"
           }
          ],
          "carpet": [
           {
            "aaxis": {
             "endlinecolor": "#2a3f5f",
             "gridcolor": "white",
             "linecolor": "white",
             "minorgridcolor": "white",
             "startlinecolor": "#2a3f5f"
            },
            "baxis": {
             "endlinecolor": "#2a3f5f",
             "gridcolor": "white",
             "linecolor": "white",
             "minorgridcolor": "white",
             "startlinecolor": "#2a3f5f"
            },
            "type": "carpet"
           }
          ],
          "choropleth": [
           {
            "colorbar": {
             "outlinewidth": 0,
             "ticks": ""
            },
            "type": "choropleth"
           }
          ],
          "contour": [
           {
            "colorbar": {
             "outlinewidth": 0,
             "ticks": ""
            },
            "colorscale": [
             [
              0,
              "#0d0887"
             ],
             [
              0.1111111111111111,
              "#46039f"
             ],
             [
              0.2222222222222222,
              "#7201a8"
             ],
             [
              0.3333333333333333,
              "#9c179e"
             ],
             [
              0.4444444444444444,
              "#bd3786"
             ],
             [
              0.5555555555555556,
              "#d8576b"
             ],
             [
              0.6666666666666666,
              "#ed7953"
             ],
             [
              0.7777777777777778,
              "#fb9f3a"
             ],
             [
              0.8888888888888888,
              "#fdca26"
             ],
             [
              1,
              "#f0f921"
             ]
            ],
            "type": "contour"
           }
          ],
          "contourcarpet": [
           {
            "colorbar": {
             "outlinewidth": 0,
             "ticks": ""
            },
            "type": "contourcarpet"
           }
          ],
          "heatmap": [
           {
            "colorbar": {
             "outlinewidth": 0,
             "ticks": ""
            },
            "colorscale": [
             [
              0,
              "#0d0887"
             ],
             [
              0.1111111111111111,
              "#46039f"
             ],
             [
              0.2222222222222222,
              "#7201a8"
             ],
             [
              0.3333333333333333,
              "#9c179e"
             ],
             [
              0.4444444444444444,
              "#bd3786"
             ],
             [
              0.5555555555555556,
              "#d8576b"
             ],
             [
              0.6666666666666666,
              "#ed7953"
             ],
             [
              0.7777777777777778,
              "#fb9f3a"
             ],
             [
              0.8888888888888888,
              "#fdca26"
             ],
             [
              1,
              "#f0f921"
             ]
            ],
            "type": "heatmap"
           }
          ],
          "heatmapgl": [
           {
            "colorbar": {
             "outlinewidth": 0,
             "ticks": ""
            },
            "colorscale": [
             [
              0,
              "#0d0887"
             ],
             [
              0.1111111111111111,
              "#46039f"
             ],
             [
              0.2222222222222222,
              "#7201a8"
             ],
             [
              0.3333333333333333,
              "#9c179e"
             ],
             [
              0.4444444444444444,
              "#bd3786"
             ],
             [
              0.5555555555555556,
              "#d8576b"
             ],
             [
              0.6666666666666666,
              "#ed7953"
             ],
             [
              0.7777777777777778,
              "#fb9f3a"
             ],
             [
              0.8888888888888888,
              "#fdca26"
             ],
             [
              1,
              "#f0f921"
             ]
            ],
            "type": "heatmapgl"
           }
          ],
          "histogram": [
           {
            "marker": {
             "pattern": {
              "fillmode": "overlay",
              "size": 10,
              "solidity": 0.2
             }
            },
            "type": "histogram"
           }
          ],
          "histogram2d": [
           {
            "colorbar": {
             "outlinewidth": 0,
             "ticks": ""
            },
            "colorscale": [
             [
              0,
              "#0d0887"
             ],
             [
              0.1111111111111111,
              "#46039f"
             ],
             [
              0.2222222222222222,
              "#7201a8"
             ],
             [
              0.3333333333333333,
              "#9c179e"
             ],
             [
              0.4444444444444444,
              "#bd3786"
             ],
             [
              0.5555555555555556,
              "#d8576b"
             ],
             [
              0.6666666666666666,
              "#ed7953"
             ],
             [
              0.7777777777777778,
              "#fb9f3a"
             ],
             [
              0.8888888888888888,
              "#fdca26"
             ],
             [
              1,
              "#f0f921"
             ]
            ],
            "type": "histogram2d"
           }
          ],
          "histogram2dcontour": [
           {
            "colorbar": {
             "outlinewidth": 0,
             "ticks": ""
            },
            "colorscale": [
             [
              0,
              "#0d0887"
             ],
             [
              0.1111111111111111,
              "#46039f"
             ],
             [
              0.2222222222222222,
              "#7201a8"
             ],
             [
              0.3333333333333333,
              "#9c179e"
             ],
             [
              0.4444444444444444,
              "#bd3786"
             ],
             [
              0.5555555555555556,
              "#d8576b"
             ],
             [
              0.6666666666666666,
              "#ed7953"
             ],
             [
              0.7777777777777778,
              "#fb9f3a"
             ],
             [
              0.8888888888888888,
              "#fdca26"
             ],
             [
              1,
              "#f0f921"
             ]
            ],
            "type": "histogram2dcontour"
           }
          ],
          "mesh3d": [
           {
            "colorbar": {
             "outlinewidth": 0,
             "ticks": ""
            },
            "type": "mesh3d"
           }
          ],
          "parcoords": [
           {
            "line": {
             "colorbar": {
              "outlinewidth": 0,
              "ticks": ""
             }
            },
            "type": "parcoords"
           }
          ],
          "pie": [
           {
            "automargin": true,
            "type": "pie"
           }
          ],
          "scatter": [
           {
            "fillpattern": {
             "fillmode": "overlay",
             "size": 10,
             "solidity": 0.2
            },
            "type": "scatter"
           }
          ],
          "scatter3d": [
           {
            "line": {
             "colorbar": {
              "outlinewidth": 0,
              "ticks": ""
             }
            },
            "marker": {
             "colorbar": {
              "outlinewidth": 0,
              "ticks": ""
             }
            },
            "type": "scatter3d"
           }
          ],
          "scattercarpet": [
           {
            "marker": {
             "colorbar": {
              "outlinewidth": 0,
              "ticks": ""
             }
            },
            "type": "scattercarpet"
           }
          ],
          "scattergeo": [
           {
            "marker": {
             "colorbar": {
              "outlinewidth": 0,
              "ticks": ""
             }
            },
            "type": "scattergeo"
           }
          ],
          "scattergl": [
           {
            "marker": {
             "colorbar": {
              "outlinewidth": 0,
              "ticks": ""
             }
            },
            "type": "scattergl"
           }
          ],
          "scattermapbox": [
           {
            "marker": {
             "colorbar": {
              "outlinewidth": 0,
              "ticks": ""
             }
            },
            "type": "scattermapbox"
           }
          ],
          "scatterpolar": [
           {
            "marker": {
             "colorbar": {
              "outlinewidth": 0,
              "ticks": ""
             }
            },
            "type": "scatterpolar"
           }
          ],
          "scatterpolargl": [
           {
            "marker": {
             "colorbar": {
              "outlinewidth": 0,
              "ticks": ""
             }
            },
            "type": "scatterpolargl"
           }
          ],
          "scatterternary": [
           {
            "marker": {
             "colorbar": {
              "outlinewidth": 0,
              "ticks": ""
             }
            },
            "type": "scatterternary"
           }
          ],
          "surface": [
           {
            "colorbar": {
             "outlinewidth": 0,
             "ticks": ""
            },
            "colorscale": [
             [
              0,
              "#0d0887"
             ],
             [
              0.1111111111111111,
              "#46039f"
             ],
             [
              0.2222222222222222,
              "#7201a8"
             ],
             [
              0.3333333333333333,
              "#9c179e"
             ],
             [
              0.4444444444444444,
              "#bd3786"
             ],
             [
              0.5555555555555556,
              "#d8576b"
             ],
             [
              0.6666666666666666,
              "#ed7953"
             ],
             [
              0.7777777777777778,
              "#fb9f3a"
             ],
             [
              0.8888888888888888,
              "#fdca26"
             ],
             [
              1,
              "#f0f921"
             ]
            ],
            "type": "surface"
           }
          ],
          "table": [
           {
            "cells": {
             "fill": {
              "color": "#EBF0F8"
             },
             "line": {
              "color": "white"
             }
            },
            "header": {
             "fill": {
              "color": "#C8D4E3"
             },
             "line": {
              "color": "white"
             }
            },
            "type": "table"
           }
          ]
         },
         "layout": {
          "annotationdefaults": {
           "arrowcolor": "#2a3f5f",
           "arrowhead": 0,
           "arrowwidth": 1
          },
          "autotypenumbers": "strict",
          "coloraxis": {
           "colorbar": {
            "outlinewidth": 0,
            "ticks": ""
           }
          },
          "colorscale": {
           "diverging": [
            [
             0,
             "#8e0152"
            ],
            [
             0.1,
             "#c51b7d"
            ],
            [
             0.2,
             "#de77ae"
            ],
            [
             0.3,
             "#f1b6da"
            ],
            [
             0.4,
             "#fde0ef"
            ],
            [
             0.5,
             "#f7f7f7"
            ],
            [
             0.6,
             "#e6f5d0"
            ],
            [
             0.7,
             "#b8e186"
            ],
            [
             0.8,
             "#7fbc41"
            ],
            [
             0.9,
             "#4d9221"
            ],
            [
             1,
             "#276419"
            ]
           ],
           "sequential": [
            [
             0,
             "#0d0887"
            ],
            [
             0.1111111111111111,
             "#46039f"
            ],
            [
             0.2222222222222222,
             "#7201a8"
            ],
            [
             0.3333333333333333,
             "#9c179e"
            ],
            [
             0.4444444444444444,
             "#bd3786"
            ],
            [
             0.5555555555555556,
             "#d8576b"
            ],
            [
             0.6666666666666666,
             "#ed7953"
            ],
            [
             0.7777777777777778,
             "#fb9f3a"
            ],
            [
             0.8888888888888888,
             "#fdca26"
            ],
            [
             1,
             "#f0f921"
            ]
           ],
           "sequentialminus": [
            [
             0,
             "#0d0887"
            ],
            [
             0.1111111111111111,
             "#46039f"
            ],
            [
             0.2222222222222222,
             "#7201a8"
            ],
            [
             0.3333333333333333,
             "#9c179e"
            ],
            [
             0.4444444444444444,
             "#bd3786"
            ],
            [
             0.5555555555555556,
             "#d8576b"
            ],
            [
             0.6666666666666666,
             "#ed7953"
            ],
            [
             0.7777777777777778,
             "#fb9f3a"
            ],
            [
             0.8888888888888888,
             "#fdca26"
            ],
            [
             1,
             "#f0f921"
            ]
           ]
          },
          "colorway": [
           "#636efa",
           "#EF553B",
           "#00cc96",
           "#ab63fa",
           "#FFA15A",
           "#19d3f3",
           "#FF6692",
           "#B6E880",
           "#FF97FF",
           "#FECB52"
          ],
          "font": {
           "color": "#2a3f5f"
          },
          "geo": {
           "bgcolor": "white",
           "lakecolor": "white",
           "landcolor": "#E5ECF6",
           "showlakes": true,
           "showland": true,
           "subunitcolor": "white"
          },
          "hoverlabel": {
           "align": "left"
          },
          "hovermode": "closest",
          "mapbox": {
           "style": "light"
          },
          "paper_bgcolor": "white",
          "plot_bgcolor": "#E5ECF6",
          "polar": {
           "angularaxis": {
            "gridcolor": "white",
            "linecolor": "white",
            "ticks": ""
           },
           "bgcolor": "#E5ECF6",
           "radialaxis": {
            "gridcolor": "white",
            "linecolor": "white",
            "ticks": ""
           }
          },
          "scene": {
           "xaxis": {
            "backgroundcolor": "#E5ECF6",
            "gridcolor": "white",
            "gridwidth": 2,
            "linecolor": "white",
            "showbackground": true,
            "ticks": "",
            "zerolinecolor": "white"
           },
           "yaxis": {
            "backgroundcolor": "#E5ECF6",
            "gridcolor": "white",
            "gridwidth": 2,
            "linecolor": "white",
            "showbackground": true,
            "ticks": "",
            "zerolinecolor": "white"
           },
           "zaxis": {
            "backgroundcolor": "#E5ECF6",
            "gridcolor": "white",
            "gridwidth": 2,
            "linecolor": "white",
            "showbackground": true,
            "ticks": "",
            "zerolinecolor": "white"
           }
          },
          "shapedefaults": {
           "line": {
            "color": "#2a3f5f"
           }
          },
          "ternary": {
           "aaxis": {
            "gridcolor": "white",
            "linecolor": "white",
            "ticks": ""
           },
           "baxis": {
            "gridcolor": "white",
            "linecolor": "white",
            "ticks": ""
           },
           "bgcolor": "#E5ECF6",
           "caxis": {
            "gridcolor": "white",
            "linecolor": "white",
            "ticks": ""
           }
          },
          "title": {
           "x": 0.05
          },
          "xaxis": {
           "automargin": true,
           "gridcolor": "white",
           "linecolor": "white",
           "ticks": "",
           "title": {
            "standoff": 15
           },
           "zerolinecolor": "white",
           "zerolinewidth": 2
          },
          "yaxis": {
           "automargin": true,
           "gridcolor": "white",
           "linecolor": "white",
           "ticks": "",
           "title": {
            "standoff": 15
           },
           "zerolinecolor": "white",
           "zerolinewidth": 2
          }
         }
        }
       }
      }
     },
     "metadata": {},
     "output_type": "display_data"
    }
   ],
   "source": [
    "df['iso_alpha'] = df['Profile.Nationality'].apply(standardize_countries)\n",
    "country_count = df.groupby('iso_alpha').size().reset_index(name='count')\n",
    "\n",
    "fig = px.choropleth(country_count,\n",
    "                    locations='iso_alpha',\n",
    "                    color='count',\n",
    "                    hover_name='iso_alpha',\n",
    "                    color_continuous_scale=px.colors.sequential.Plasma)\n",
    "fig.show()\n"
   ]
  },
  {
   "cell_type": "code",
   "execution_count": 39,
   "metadata": {},
   "outputs": [],
   "source": [
    "fig.write_html('/Users/harishravisankar/Desktop/IS445/Final/interactive_map.html')"
   ]
  },
  {
   "cell_type": "code",
   "execution_count": null,
   "metadata": {},
   "outputs": [],
   "source": []
  }
 ],
 "metadata": {
  "kernelspec": {
   "display_name": "base",
   "language": "python",
   "name": "python3"
  },
  "language_info": {
   "codemirror_mode": {
    "name": "ipython",
    "version": 3
   },
   "file_extension": ".py",
   "mimetype": "text/x-python",
   "name": "python",
   "nbconvert_exporter": "python",
   "pygments_lexer": "ipython3",
   "version": "3.10.9"
  }
 },
 "nbformat": 4,
 "nbformat_minor": 2
}
